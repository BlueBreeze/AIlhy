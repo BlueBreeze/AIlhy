{
 "cells": [
  {
   "cell_type": "code",
   "execution_count": 40,
   "metadata": {},
   "outputs": [],
   "source": [
    "from PIL import Image\n",
    "\n",
    "lena = Image.open(\"input/lena.png\")\n",
    "lena_modified = Image.open(\"input/lena_modified.png\")"
   ]
  },
  {
   "cell_type": "code",
   "execution_count": 41,
   "metadata": {},
   "outputs": [],
   "source": [
    "w, h = lena.size\n",
    "for j in range(h):\n",
    "    for i in range(w):\n",
    "        if lena.getpixel((i, j)) == lena_modified.getpixel((i, j)):\n",
    "            lena_modified.putpixel((i, j), (255,255,0))\n",
    "\n",
    "lena_modified.show()\n",
    "lena_modified.save(\"output/rs.png\")"
   ]
  },
  {
   "cell_type": "code",
   "execution_count": 45,
   "metadata": {},
   "outputs": [
    {
     "name": "stdout",
     "output_type": "stream",
     "text": [
      "Help on method getpixel in module PIL.Image:\n",
      "\n",
      "getpixel(xy) method of PIL.PngImagePlugin.PngImageFile instance\n",
      "    Returns the pixel value at a given position.\n",
      "    \n",
      "    :param xy: The coordinate, given as (x, y). See\n",
      "       :ref:`coordinate-system`.\n",
      "    :returns: The pixel value.  If the image is a multi-layer image,\n",
      "       this method returns a tuple.\n",
      "\n",
      "Help on method putpixel in module PIL.Image:\n",
      "\n",
      "putpixel(xy, value) method of PIL.PngImagePlugin.PngImageFile instance\n",
      "    Modifies the pixel at the given position. The color is given as\n",
      "    a single numerical value for single-band images, and a tuple for\n",
      "    multi-band images. In addition to this, RGB and RGBA tuples are\n",
      "    accepted for P images.\n",
      "    \n",
      "    Note that this method is relatively slow.  For more extensive changes,\n",
      "    use :py:meth:`~PIL.Image.Image.paste` or the :py:mod:`~PIL.ImageDraw`\n",
      "    module instead.\n",
      "    \n",
      "    See:\n",
      "    \n",
      "    * :py:meth:`~PIL.Image.Image.paste`\n",
      "    * :py:meth:`~PIL.Image.Image.putdata`\n",
      "    * :py:mod:`~PIL.ImageDraw`\n",
      "    \n",
      "    :param xy: The pixel coordinate, given as (x, y). See\n",
      "       :ref:`coordinate-system`.\n",
      "    :param value: The pixel value.\n",
      "\n"
     ]
    }
   ],
   "source": [
    "help(lena.getpixel)\n",
    "help(lena.putpixel)"
   ]
  },
  {
   "cell_type": "code",
   "execution_count": null,
   "metadata": {},
   "outputs": [],
   "source": []
  }
 ],
 "metadata": {
  "kernelspec": {
   "display_name": "Python 3",
   "language": "python",
   "name": "python3"
  },
  "language_info": {
   "codemirror_mode": {
    "name": "ipython",
    "version": 3
   },
   "file_extension": ".py",
   "mimetype": "text/x-python",
   "name": "python",
   "nbconvert_exporter": "python",
   "pygments_lexer": "ipython3",
   "version": "3.7.3"
  }
 },
 "nbformat": 4,
 "nbformat_minor": 2
}
